{
 "cells": [
  {
   "cell_type": "markdown",
   "metadata": {},
   "source": [
    "# Análisis Básico de Datos de Netflix\n",
    "\n",
    "**Estudiante:** Osvaldo  \n",
    "**Fecha:** 19 de Agosto 2025  \n",
    "**Dataset:** Netflix Shows Dataset\n",
    "\n",
    "En este notebook vamos a analizar el dataset de Netflix para entender qué tipo de contenido tiene la plataforma."
   ]
  },
  {
   "cell_type": "markdown",
   "metadata": {},
   "source": [
    "## 1. Importar las librerías que vamos a usar"
   ]
  },
  {
   "cell_type": "code",
   "execution_count": null,
   "metadata": {},
   "outputs": [],
   "source": [
    "import pandas as pd\n",
    "import matplotlib.pyplot as plt\n",
    "\n",
    "print(\"Librerías cargadas correctamente\")"
   ]
  },
  {
   "cell_type": "markdown",
   "metadata": {},
   "source": [
    "## 2. Cargar los datos"
   ]
  },
  {
   "cell_type": "code",
   "execution_count": null,
   "metadata": {},
   "outputs": [],
   "source": [
    "# Cargar el archivo CSV\n",
    "df = pd.read_csv('netflix_titles.csv')\n",
    "\n",
    "print(f\"El dataset tiene {len(df)} filas y {len(df.columns)} columnas\")\n",
    "print(\"\\nPrimeras 5 filas:\")\n",
    "df.head()"
   ]
  },
  {
   "cell_type": "markdown",
   "metadata": {},
   "source": [
    "## 3. Explorar los datos básicos"
   ]
  },
  {
   "cell_type": "code",
   "execution_count": null,
   "metadata": {},
   "outputs": [],
   "source": [
    "# Ver información básica del dataset\n",
    "print(\"Columnas del dataset:\")\n",
    "for i, columna in enumerate(df.columns):\n",
    "    print(f\"{i+1}. {columna}\")\n",
    "\n",
    "print(f\"\\nTamaño del dataset: {df.shape}\")"
   ]
  },
  {
   "cell_type": "code",
   "execution_count": null,
   "metadata": {},
   "outputs": [],
   "source": [
    "# Ver cuántos datos faltan\n",
    "print(\"Datos faltantes por columna:\")\n",
    "datos_faltantes = df.isnull().sum()\n",
    "print(datos_faltantes)"
   ]
  },
  {
   "cell_type": "markdown",
   "metadata": {},
   "source": [
    "## 4. Limpieza básica de datos"
   ]
  },
  {
   "cell_type": "code",
   "execution_count": null,
   "metadata": {},
   "outputs": [],
   "source": [
    "# Hacer una copia de los datos para trabajar\n",
    "df_limpio = df.copy()\n",
    "\n",
    "# Eliminar filas que no tienen fecha de cuando se agregó a Netflix\n",
    "df_limpio = df_limpio.dropna(subset=['date_added'])\n",
    "\n",
    "print(f\"Datos originales: {len(df)} filas\")\n",
    "print(f\"Datos después de limpiar: {len(df_limpio)} filas\")\n",
    "print(f\"Se eliminaron {len(df) - len(df_limpio)} filas\")"
   ]
  },
  {
   "cell_type": "markdown",
   "metadata": {},
   "source": [
    "## 5. Análisis 1: ¿Qué tipos de contenido tiene Netflix?\n",
    "\n",
    "Vamos a ver si Netflix tiene más películas o series de TV."
   ]
  },
  {
   "cell_type": "code",
   "execution_count": null,
   "metadata": {},
   "outputs": [],
   "source": [
    "# Contar cuántas películas y series hay\n",
    "conteo_tipos = df_limpio['type'].value_counts()\n",
    "print(\"Tipos de contenido en Netflix:\")\n",
    "print(conteo_tipos)\n",
    "\n",
    "# Calcular porcentajes\n",
    "porcentajes = (conteo_tipos / len(df_limpio)) * 100\n",
    "print(\"\\nPorcentajes:\")\n",
    "for tipo, pct in porcentajes.items():\n",
    "    print(f\"{tipo}: {pct:.1f}%\")"
   ]
  },
  {
   "cell_type": "code",
   "execution_count": null,
   "metadata": {},
   "outputs": [],
   "source": [
    "# Crear un gráfico de barras\n",
    "plt.figure(figsize=(8, 6))\n",
    "plt.bar(conteo_tipos.index, conteo_tipos.values, color=['red', 'darkred'])\n",
    "plt.title('Tipos de Contenido en Netflix', fontsize=16, fontweight='bold')\n",
    "plt.xlabel('Tipo de Contenido')\n",
    "plt.ylabel('Cantidad')\n",
    "\n",
    "# Agregar los números encima de las barras\n",
    "for i, v in enumerate(conteo_tipos.values):\n",
    "    plt.text(i, v + 50, str(v), ha='center', fontweight='bold')\n",
    "\n",
    "plt.tight_layout()\n",
    "plt.show()"
   ]
  },
  {
   "cell_type": "markdown",
   "metadata": {},
   "source": [
    "## 6. Análisis 2: ¿De qué países viene más contenido?\n",
    "\n",
    "Vamos a ver cuáles son los países que más contenido aportan a Netflix."
   ]
  },
  {
   "cell_type": "code",
   "execution_count": null,
   "metadata": {},
   "outputs": [],
   "source": [
    "# Limpiar datos de países (algunos están vacíos)\n",
    "df_con_pais = df_limpio[df_limpio['country'].notna()]\n",
    "\n",
    "# Algunos títulos tienen varios países, vamos a tomar solo el primero\n",
    "df_con_pais['primer_pais'] = df_con_pais['country'].str.split(',').str[0]\n",
    "\n",
    "# Contar los 10 países con más contenido\n",
    "top_paises = df_con_pais['primer_pais'].value_counts().head(10)\n",
    "print(\"Top 10 países con más contenido:\")\n",
    "print(top_paises)"
   ]
  },
  {
   "cell_type": "code",
   "execution_count": null,
   "metadata": {},
   "outputs": [],
   "source": [
    "# Crear gráfico de barras horizontal\n",
    "plt.figure(figsize=(10, 8))\n",
    "plt.barh(top_paises.index, top_paises.values, color='darkblue')\n",
    "plt.title('Top 10 Países con Más Contenido en Netflix', fontsize=16, fontweight='bold')\n",
    "plt.xlabel('Cantidad de Títulos')\n",
    "plt.ylabel('País')\n",
    "\n",
    "# Agregar los números al final de cada barra\n",
    "for i, v in enumerate(top_paises.values):\n",
    "    plt.text(v + 20, i, str(v), va='center', fontweight='bold')\n",
    "\n",
    "plt.tight_layout()\n",
    "plt.show()"
   ]
  },
  {
   "cell_type": "markdown",
   "metadata": {},
   "source": [
    "## 7. Análisis 3: ¿Cuáles son las clasificaciones más comunes?\n",
    "\n",
    "Vamos a ver qué tipos de clasificación (edades) son más frecuentes."
   ]
  },
  {
   "cell_type": "code",
   "execution_count": null,
   "metadata": {},
   "outputs": [],
   "source": [
    "# Contar clasificaciones\n",
    "clasificaciones = df_limpio['rating'].value_counts().head(8)\n",
    "print(\"Clasificaciones más comunes:\")\n",
    "print(clasificaciones)"
   ]
  },
  {
   "cell_type": "code",
   "execution_count": null,
   "metadata": {},
   "outputs": [],
   "source": [
    "# Gráfico de barras de clasificaciones\n",
    "plt.figure(figsize=(12, 6))\n",
    "plt.bar(clasificaciones.index, clasificaciones.values, color='green')\n",
    "plt.title('Clasificaciones Más Comunes en Netflix', fontsize=16, fontweight='bold')\n",
    "plt.xlabel('Clasificación')\n",
    "plt.ylabel('Cantidad')\n",
    "plt.xticks(rotation=45)\n",
    "\n",
    "# Agregar números encima de las barras\n",
    "for i, v in enumerate(clasificaciones.values):\n",
    "    plt.text(i, v + 20, str(v), ha='center', fontweight='bold')\n",
    "\n",
    "plt.tight_layout()\n",
    "plt.show()"
   ]
  },
  {
   "cell_type": "markdown",
   "metadata": {},
   "source": [
    "## 8. Análisis 4: ¿En qué años se agregó más contenido?\n",
    "\n",
    "Vamos a ver en qué años Netflix agregó más contenido a su plataforma."
   ]
  },
  {
   "cell_type": "code",
   "execution_count": null,
   "metadata": {},
   "outputs": [],
   "source": [
    "# Convertir la fecha a formato de fecha\n",
    "df_limpio['date_added'] = pd.to_datetime(df_limpio['date_added'])\n",
    "\n",
    "# Extraer el año\n",
    "df_limpio['año_agregado'] = df_limpio['date_added'].dt.year\n",
    "\n",
    "# Contar por año (últimos 10 años)\n",
    "conteo_años = df_limpio['año_agregado'].value_counts().sort_index().tail(10)\n",
    "print(\"Contenido agregado por año (últimos 10 años):\")\n",
    "print(conteo_años)"
   ]
  },
  {
   "cell_type": "code",
   "execution_count": null,
   "metadata": {},
   "outputs": [],
   "source": [
    "# Gráfico de barras por año\n",
    "plt.figure(figsize=(12, 6))\n",
    "plt.bar(conteo_años.index.astype(str), conteo_años.values, color='orange')\n",
    "plt.title('Contenido Agregado a Netflix por Año', fontsize=16, fontweight='bold')\n",
    "plt.xlabel('Año')\n",
    "plt.ylabel('Cantidad de Títulos Agregados')\n",
    "plt.xticks(rotation=45)\n",
    "\n",
    "# Agregar números encima de las barras\n",
    "for i, v in enumerate(conteo_años.values):\n",
    "    plt.text(i, v + 30, str(v), ha='center', fontweight='bold')\n",
    "\n",
    "plt.tight_layout()\n",
    "plt.show()"
   ]
  },
  {
   "cell_type": "markdown",
   "metadata": {},
   "source": [
    "## 9. Análisis 5: ¿Cuáles son los géneros más populares?\n",
    "\n",
    "Vamos a ver qué tipos de géneros son más comunes en Netflix."
   ]
  },
  {
   "cell_type": "code",
   "execution_count": null,
   "metadata": {},
   "outputs": [],
   "source": [
    "# Limpiar géneros (algunos títulos no tienen género)\n",
    "df_con_genero = df_limpio[df_limpio['listed_in'].notna()]\n",
    "\n",
    "# Separar géneros (algunos títulos tienen varios géneros separados por comas)\n",
    "todos_los_generos = []\n",
    "for generos in df_con_genero['listed_in']:\n",
    "    generos_separados = generos.split(', ')\n",
    "    todos_los_generos.extend(generos_separados)\n",
    "\n",
    "# Crear DataFrame de géneros y contar\n",
    "df_generos = pd.DataFrame(todos_los_generos, columns=['genero'])\n",
    "top_generos = df_generos['genero'].value_counts().head(10)\n",
    "\n",
    "print(\"Top 10 géneros más populares:\")\n",
    "print(top_generos)"
   ]
  },
  {
   "cell_type": "code",
   "execution_count": null,
   "metadata": {},
   "outputs": [],
   "source": [
    "# Gráfico de barras horizontal para géneros\n",
    "plt.figure(figsize=(12, 8))\n",
    "plt.barh(top_generos.index, top_generos.values, color='purple')\n",
    "plt.title('Top 10 Géneros Más Populares en Netflix', fontsize=16, fontweight='bold')\n",
    "plt.xlabel('Cantidad de Títulos')\n",
    "plt.ylabel('Género')\n",
    "\n",
    "# Agregar números al final de cada barra\n",
    "for i, v in enumerate(top_generos.values):\n",
    "    plt.text(v + 30, i, str(v), va='center', fontweight='bold')\n",
    "\n",
    "plt.tight_layout()\n",
    "plt.show()"
   ]
  },
  {
   "cell_type": "markdown",
   "metadata": {},
   "source": [
    "## 10. Conclusiones\n",
    "\n",
    "Después de analizar los datos de Netflix, encontramos lo siguiente:"
   ]
  },
  {
   "cell_type": "code",
   "execution_count": null,
   "metadata": {},
   "outputs": [],
   "source": [
    "print(\"=== CONCLUSIONES DEL ANÁLISIS ===\\n\")\n",
    "\n",
    "# Conclusión 1: Tipos de contenido\n",
    "movies_count = conteo_tipos['Movie']\n",
    "shows_count = conteo_tipos['TV Show']\n",
    "movies_pct = (movies_count / (movies_count + shows_count)) * 100\n",
    "print(f\"1. TIPO DE CONTENIDO:\")\n",
    "print(f\"   - Netflix tiene más películas ({movies_pct:.1f}%) que series de TV\")\n",
    "print(f\"   - Total: {movies_count} películas y {shows_count} series\\n\")\n",
    "\n",
    "# Conclusión 2: País principal\n",
    "pais_principal = top_paises.index[0]\n",
    "cantidad_principal = top_paises.iloc[0]\n",
    "print(f\"2. PAÍS PRINCIPAL:\")\n",
    "print(f\"   - {pais_principal} es el país con más contenido ({cantidad_principal} títulos)\\n\")\n",
    "\n",
    "# Conclusión 3: Clasificación más común\n",
    "rating_principal = clasificaciones.index[0]\n",
    "print(f\"3. CLASIFICACIÓN MÁS COMÚN:\")\n",
    "print(f\"   - La clasificación más frecuente es '{rating_principal}'\\n\")\n",
    "\n",
    "# Conclusión 4: Año con más contenido\n",
    "año_mas_contenido = conteo_años.index[-1]\n",
    "cantidad_año = conteo_años.iloc[-1]\n",
    "print(f\"4. CRECIMIENTO:\")\n",
    "print(f\"   - El año {año_mas_contenido} fue cuando más contenido se agregó ({cantidad_año} títulos)\\n\")\n",
    "\n",
    "# Conclusión 5: Género principal\n",
    "genero_principal = top_generos.index[0]\n",
    "print(f\"5. GÉNERO MÁS POPULAR:\")\n",
    "print(f\"   - El género más común es '{genero_principal}'\\n\")\n",
    "\n",
    "print(\"=== FIN DEL ANÁLISIS ===\")"
   ]
  }
 ],
 "metadata": {
  "kernelspec": {
   "display_name": "Python 3",
   "language": "python",
   "name": "python3"
  },
  "language_info": {
   "codemirror_mode": {
    "name": "ipython",
    "version": 3
   },
   "file_extension": ".py",
   "mimetype": "text/x-python",
   "name": "python",
   "nbconvert_exporter": "python",
   "pygments_lexer": "ipython3",
   "version": "3.13.7"
  }
 },
 "nbformat": 4,
 "nbformat_minor": 4
}